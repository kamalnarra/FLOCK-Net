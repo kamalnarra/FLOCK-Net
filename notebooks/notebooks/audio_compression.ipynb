{
 "cells": [
  {
   "cell_type": "code",
   "execution_count": 6,
   "metadata": {},
   "outputs": [],
   "source": [
    "import os\n",
    "from pprint import pprint\n",
    "from datetime import datetime\n",
    "from birdnetlib import Recording\n",
    "from birdnetlib.analyzer import Analyzer"
   ]
  },
  {
   "cell_type": "code",
   "execution_count": 7,
   "metadata": {},
   "outputs": [
    {
     "name": "stdout",
     "output_type": "stream",
     "text": [
      "Labels loaded.\n",
      "load model True\n",
      "Model loaded.\n",
      "Labels loaded.\n",
      "load_species_list_model\n",
      "Meta model loaded.\n"
     ]
    },
    {
     "name": "stderr",
     "output_type": "stream",
     "text": [
      "INFO: Created TensorFlow Lite XNNPACK delegate for CPU.\n"
     ]
    }
   ],
   "source": [
    "# Load BirdNet-Analyzer model\n",
    "analyzer = Analyzer()"
   ]
  },
  {
   "cell_type": "code",
   "execution_count": 17,
   "metadata": {},
   "outputs": [
    {
     "name": "stdout",
     "output_type": "stream",
     "text": [
      "6093.8240000000005 kilobits\n"
     ]
    }
   ],
   "source": [
    "# Recording taken on my phone at Acadia National Park\n",
    "path = \"sample_data/hermit_thrush.wav\"\n",
    "print(f\"{path.split('/')}{0.008 * (os.path.getsize(path))} kilobits\")"
   ]
  },
  {
   "cell_type": "code",
   "execution_count": null,
   "metadata": {},
   "outputs": [],
   "source": [
    "# Recording taken on my phone at Acadia National Park\n",
    "recording_raw = Recording(\n",
    "    analyzer,\n",
    "    \"sample_data/hermit_thrush.wav\",\n",
    "    lat= 44.391560,\n",
    "    lon= -68.235826,\n",
    "    date= datetime(year=2022, month=6, day=14)\n",
    "    min_conf=0.25\n",
    ")"
   ]
  }
 ],
 "metadata": {
  "kernelspec": {
   "display_name": "Python 3",
   "language": "python",
   "name": "python3"
  },
  "language_info": {
   "codemirror_mode": {
    "name": "ipython",
    "version": 3
   },
   "file_extension": ".py",
   "mimetype": "text/x-python",
   "name": "python",
   "nbconvert_exporter": "python",
   "pygments_lexer": "ipython3",
   "version": "3.10.12"
  }
 },
 "nbformat": 4,
 "nbformat_minor": 2
}
